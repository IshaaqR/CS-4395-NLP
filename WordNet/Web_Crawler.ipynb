{
  "nbformat": 4,
  "nbformat_minor": 0,
  "metadata": {
    "colab": {
      "provenance": [],
      "collapsed_sections": []
    },
    "kernelspec": {
      "name": "python3",
      "display_name": "Python 3"
    },
    "language_info": {
      "name": "python"
    }
  },
  "cells": [
    {
      "cell_type": "code",
      "source": [
        "from google.colab import drive\n",
        "drive.mount('/content/drive')\n",
        "from bs4 import BeautifulSoup\n",
        "import requests\n",
        "import urllib.request\n",
        "import re\n",
        "import nltk\n",
        "nltk.download('punkt')\n",
        "nltk.download('stopwords')\n",
        "from nltk.tokenize import sent_tokenize\n",
        "from nltk import word_tokenize\n",
        "from nltk.corpus import stopwords"
      ],
      "metadata": {
        "colab": {
          "base_uri": "https://localhost:8080/"
        },
        "id": "q5j8R_S9aduF",
        "outputId": "cd2fa5ba-cbbe-484e-d7c0-a2f182a4c84f"
      },
      "execution_count": 84,
      "outputs": [
        {
          "output_type": "stream",
          "name": "stdout",
          "text": [
            "Drive already mounted at /content/drive; to attempt to forcibly remount, call drive.mount(\"/content/drive\", force_remount=True).\n"
          ]
        },
        {
          "output_type": "stream",
          "name": "stderr",
          "text": [
            "[nltk_data] Downloading package punkt to /root/nltk_data...\n",
            "[nltk_data]   Package punkt is already up-to-date!\n",
            "[nltk_data] Downloading package stopwords to /root/nltk_data...\n",
            "[nltk_data]   Package stopwords is already up-to-date!\n"
          ]
        }
      ]
    },
    {
      "cell_type": "markdown",
      "source": [
        "Build a web crawler function that starts with a URL representing a topic (a sport, your favorite film, a celebrity, a political issue, etc.) and outputs a list of at least 15 relevant URLs. The URLs can be pages within the original domain but should have a few outside the original domain. "
      ],
      "metadata": {
        "id": "ayinzvi1cY72"
      }
    },
    {
      "cell_type": "code",
      "execution_count": 85,
      "metadata": {
        "id": "mA9k2_vo7Vga"
      },
      "outputs": [],
      "source": [
        "def crawl(url):\n",
        "  r = requests.get(url)\n",
        "  data = r.text\n",
        "  soup = BeautifulSoup(data)\n",
        "\n",
        "  # write urls to a file\n",
        "  counter = 0\n",
        "  with open('/content/drive/My Drive/Schoolwork/CS 4395/Web Crawler/urls.txt', 'w') as f:\n",
        "      for link in soup.find_all('a'):\n",
        "          # Stop searching if 15 relevant URLs have been found\n",
        "          if counter >= 15:\n",
        "            break\n",
        "\n",
        "          link_str = str(link.get('href'))\n",
        "          if 'Federer' in link_str or 'federer' in link_str:\n",
        "              if link_str.startswith('/url?q='):\n",
        "                  link_str = link_str[7:]\n",
        "              if '&' in link_str:\n",
        "                  i = link_str.find('&')\n",
        "                  link_str = link_str[:i]\n",
        "              if link_str.startswith('http') and 'google' not in link_str:\n",
        "                  f.write(link_str + '\\n')\n",
        "                  counter += 1"
      ]
    },
    {
      "cell_type": "markdown",
      "source": [
        "Write a function to loop through your URLs and scrape all text off each page. Store each page’s text in its own file."
      ],
      "metadata": {
        "id": "RZ1ymOvfdHZI"
      }
    },
    {
      "cell_type": "code",
      "source": [
        "# function to determine if an element is visible\n",
        "def visible(element):\n",
        "    if element.parent.name in ['style', 'script', '[document]', 'head', 'title']:\n",
        "        return False\n",
        "    elif re.match('<!--.*-->', str(element.encode('utf-8'))):\n",
        "        return False\n",
        "    return True\n",
        "\n",
        "def scrape(url, name):\n",
        "  with open('/content/drive/My Drive/Schoolwork/CS 4395/Web Crawler/raw_text/{}.txt'.format(name), 'w') as f: \n",
        "    try:\n",
        "      html = urllib.request.urlopen(url)\n",
        "      soup = BeautifulSoup(html)\n",
        "      data = soup.findAll(text=True)\n",
        "      result = filter(visible, data)\n",
        "      temp_list = list(result)      # list from filter\n",
        "      temp_str = ' '.join(temp_list)\n",
        "\n",
        "      f.write(temp_str)\n",
        "    except:\n",
        "      print('{} could not be scraped'.format(url))"
      ],
      "metadata": {
        "id": "4OWVoLJdZUfG"
      },
      "execution_count": 86,
      "outputs": []
    },
    {
      "cell_type": "markdown",
      "source": [
        "Write a function to clean up the textfrom each file. You might need to delete newlines and tabsfirst. Extract sentences with NLTK’s sentence tokenizer. Write the sentences for each file to a new file. That is, if you have 15 files in, you have 15 files out."
      ],
      "metadata": {
        "id": "J-EO-iumoWWv"
      }
    },
    {
      "cell_type": "code",
      "source": [
        "def process(name):\n",
        "  with open('/content/drive/My Drive/Schoolwork/CS 4395/Web Crawler/raw_text/{}.txt'.format(name), 'r') as f:\n",
        "    raw_text = f.read()\n",
        "\n",
        "  clean_text = \" \".join(raw_text.split())\n",
        "\n",
        "  sents = sent_tokenize(clean_text)\n",
        "  \n",
        "  with open('/content/drive/My Drive/Schoolwork/CS 4395/Web Crawler/processed_text/{}.txt'.format(name), 'w') as f:\n",
        "    for sent in sents:\n",
        "      f.write(sent)"
      ],
      "metadata": {
        "id": "1hwGDLOnoXSQ"
      },
      "execution_count": 87,
      "outputs": []
    },
    {
      "cell_type": "markdown",
      "source": [
        "Write a function to extract at least 25 important terms from the pages using an importance measure such as term frequency,or tf-idf. First, it’s a good idea to lower-case everything, remove stopwords and punctuation. Print the top 25-40 terms."
      ],
      "metadata": {
        "id": "gKl0sgFFNOkc"
      }
    },
    {
      "cell_type": "code",
      "source": [
        "def extract():\n",
        "  full_text = \"\"\n",
        "  for i in range(15):\n",
        "    with open('/content/drive/My Drive/Schoolwork/CS 4395/Web Crawler/processed_text/{}.txt'.format(i), 'r') as f:\n",
        "      text = f.read().lower()\n",
        "      full_text += text + \" \"\n",
        "\n",
        "  stop_words = stopwords.words('english')\n",
        "  tokens = word_tokenize(full_text)\n",
        "  tokens = [w for w in tokens if w.isalpha() and w not in stop_words]\n",
        "  tokens_set = set(tokens)\n",
        "  \n",
        "  # get term frequencies\n",
        "  tf_dict = {t:tokens.count(t) for t in tokens_set}\n",
        "  tf_dict = {k: v for k, v in sorted(tf_dict.items(), key=lambda item: -item[1])}\n",
        "  top_40 = list(tf_dict.keys())[:40]\n",
        "\n",
        "  return top_40"
      ],
      "metadata": {
        "id": "3xQTvg8PNTHN"
      },
      "execution_count": 96,
      "outputs": []
    },
    {
      "cell_type": "markdown",
      "source": [
        "Run the main portion of the code"
      ],
      "metadata": {
        "id": "WCn1wABpc_Kv"
      }
    },
    {
      "cell_type": "code",
      "source": [
        "starter_url = \"https://en.wikipedia.org/wiki/Roger_Federer\"\n",
        "\n",
        "print(\"Start of crawler\")\n",
        "crawl(starter_url)\n",
        "print(\"End of crawler\\n\")\n",
        "\n",
        "print(\"Start of scraper\")\n",
        "with open('/content/drive/My Drive/Schoolwork/CS 4395/Web Crawler/urls.txt', 'r') as f:\n",
        "  for i, line in enumerate(f):\n",
        "    scrape(line, i)\n",
        "print(\"End of scraper\\n\")\n",
        "\n",
        "print('Started cleaning sentences')\n",
        "for i in range(15):\n",
        "  process(i)\n",
        "print(\"Finished cleaning sentences\\n\")\n",
        "\n",
        "print(\"Started extracting keywords\")\n",
        "keywords = extract()\n",
        "print(keywords)\n",
        "print(\"Finished extracting keywords\\n\")\n"
      ],
      "metadata": {
        "colab": {
          "base_uri": "https://localhost:8080/"
        },
        "id": "QrmLOQFfaIzQ",
        "outputId": "255ddb47-711b-4708-8a95-9a50fec88a3e"
      },
      "execution_count": 97,
      "outputs": [
        {
          "output_type": "stream",
          "name": "stdout",
          "text": [
            "Start of crawler\n",
            "End of crawler\n",
            "\n",
            "Start of scraper\n",
            "http://rogerfederer.com\n",
            " could not be scraped\n",
            "http://www.atpworldtour.com/Tennis/Players/Top-Players/Roger-Federer.aspx\n",
            " could not be scraped\n",
            "https://playersbio.com/roger-federer/\n",
            " could not be scraped\n",
            "http://www.blick.ch/sport/fussball/nati/roger-federer-hat-luxusproblem-128296\n",
            " could not be scraped\n",
            "http://www.rogerfederer.com/en/fanzone/askroger/index.cfm\n",
            " could not be scraped\n",
            "End of scraper\n",
            "\n",
            "Started cleaning sentences\n",
            "Finished cleaning sentences\n",
            "\n",
            "Started extracting keywords\n",
            "['federer', 'roger', 'log', 'first', 'one', 'fetch', 'open', 'grand', 'menu', 'wimbledon', 'styles', 'year', 'dom', 'return', 'tennis', 'slam', 'like', 'illustration', 'render', 'shady', 'search', 'time', 'share', 'news', 'final', 'terms', 'times', 'execute', 'us', 'since', 'career', 'back', 'djokovic', 'gq', 'know', 'new', 'pipeline', 'urn', 'read', 'nadal']\n",
            "Finished extracting keywords\n",
            "\n"
          ]
        }
      ]
    },
    {
      "cell_type": "markdown",
      "source": [
        "Manually determine the top 10 terms from step 4, based on your domain knowledge."
      ],
      "metadata": {
        "id": "13Ycd1d5sHYV"
      }
    },
    {
      "cell_type": "code",
      "source": [
        "top_10 = ['federer', 'open', 'grand', 'wimbledon', 'dom', 'tennis', 'return', 'us', 'djokovic', 'nadal']"
      ],
      "metadata": {
        "id": "Z_-7by9qsIBj"
      },
      "execution_count": null,
      "outputs": []
    },
    {
      "cell_type": "markdown",
      "source": [
        "Build a searchable knowledge base of facts that a chatbot (to be developed later) can share related to the 10 terms. The “knowledge base” can be as simple as a Python dict which you can pickle. More points for something more sophisticated like sql."
      ],
      "metadata": {
        "id": "0RsuGv0ft7XQ"
      }
    },
    {
      "cell_type": "code",
      "source": [
        "knowledge_base = {\n",
        "    'federer': 'Roger Federer is a professional tennis player from Switzerland, and is considered by many to be the best tennis player of our time.',\n",
        "    'open': 'Most tennis tournaments are called opens (e.g., the Korean Open).',\n",
        "    'grand': 'Four annual tennis tournaments are called grand slams, and these are the most competitive tournaments to play in.',\n",
        "    'wimbledon': 'The most famous of the four grand slams, Federer has won this tournament 8 times, the most out of any player ever.',\n",
        "    'dom': 'Dominic Theim is a younger player with the potential to replace Federer as the world No. 1, having already beat him 5 times out of their 7 games.',\n",
        "    'us': 'The US Open is another grand slam tournament, with Federer being one of only three players to reach 5 wins in the tournament.',\n",
        "    'return': 'Federer\\'s return is one of his top strengths in tennis, which allows him to return powerful serves from players like Andy Murray.',\n",
        "    'tennis': 'The tennis world has been dominated by Federer for several years, with few players being able to compete with him.',\n",
        "    'djokovic': 'Novak Djokovic is one of the few players that can compete with Federer, and is notorious for his two-handed backhand.',\n",
        "    'nadal': 'Rafael Nadal is Federer\\'s lifetime rival, having about the same amount of achievements.'\n",
        "}\n",
        "knowledge_base"
      ],
      "metadata": {
        "colab": {
          "base_uri": "https://localhost:8080/"
        },
        "id": "839zcjNZt-ip",
        "outputId": "bb526edc-6f00-4b83-b0a7-3e9be677c84f"
      },
      "execution_count": 100,
      "outputs": [
        {
          "output_type": "execute_result",
          "data": {
            "text/plain": [
              "{'federer': 'Roger Federer is a professional tennis player from Switzerland, and is considered by many to be the best tennis player of our time.',\n",
              " 'open': 'Most tennis tournaments are called opens (e.g., the Korean Open).',\n",
              " 'grand': 'Four annual tennis tournaments are called grand slams, and these are the most competitive tournaments to play in.',\n",
              " 'wimbledon': 'The most famous of the four grand slams, Federer has won this tournament 8 times, the most out of any player ever.',\n",
              " 'dom': 'Dominic Theim is a younger player with the potential to replace Federer as the world No. 1, having already beat him 5 times out of their 7 games.',\n",
              " 'us': 'The US Open is another grand slam tournament, with Federer being one of only three players to reach 5 wins in the tournament.',\n",
              " 'return': \"Federer's return is one of his top strengths in tennis, which allows him to return powerful serves from players like Andy Murray.\",\n",
              " 'tennis': 'The tennis world has been dominated by Federer for several years, with few players being able to compete with him.',\n",
              " 'djokovic': 'Novak Djokovic is one of the few players that can compete with Federer, and is notorious for his two-handed backhand.',\n",
              " 'nadal': \"Rafael Nadal is Federer's lifetime rival, having about the same amount of achievements.\"}"
            ]
          },
          "metadata": {},
          "execution_count": 100
        }
      ]
    }
  ]
}