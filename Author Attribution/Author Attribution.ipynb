{
 "cells": [
  {
   "cell_type": "code",
   "execution_count": 1,
   "id": "3e70237b",
   "metadata": {},
   "outputs": [],
   "source": [
    "import pandas as pd\n",
    "from sklearn.model_selection import train_test_split\n",
    "from sklearn.feature_extraction.text import TfidfVectorizer\n",
    "from sklearn.naive_bayes import BernoulliNB\n",
    "from sklearn.linear_model import LogisticRegression\n",
    "from sklearn.metrics import accuracy_score\n",
    "from sklearn.neural_network import MLPClassifier"
   ]
  },
  {
   "cell_type": "markdown",
   "id": "ee248212",
   "metadata": {},
   "source": [
    "# 1"
   ]
  },
  {
   "cell_type": "code",
   "execution_count": 2,
   "id": "7d6410a1",
   "metadata": {},
   "outputs": [
    {
     "data": {
      "text/html": [
       "<div>\n",
       "<style scoped>\n",
       "    .dataframe tbody tr th:only-of-type {\n",
       "        vertical-align: middle;\n",
       "    }\n",
       "\n",
       "    .dataframe tbody tr th {\n",
       "        vertical-align: top;\n",
       "    }\n",
       "\n",
       "    .dataframe thead th {\n",
       "        text-align: right;\n",
       "    }\n",
       "</style>\n",
       "<table border=\"1\" class=\"dataframe\">\n",
       "  <thead>\n",
       "    <tr style=\"text-align: right;\">\n",
       "      <th></th>\n",
       "      <th>author</th>\n",
       "      <th>text</th>\n",
       "    </tr>\n",
       "  </thead>\n",
       "  <tbody>\n",
       "    <tr>\n",
       "      <th>0</th>\n",
       "      <td>HAMILTON</td>\n",
       "      <td>FEDERALIST. No. 1 General Introduction For the...</td>\n",
       "    </tr>\n",
       "    <tr>\n",
       "      <th>1</th>\n",
       "      <td>JAY</td>\n",
       "      <td>FEDERALIST No. 2 Concerning Dangers from Forei...</td>\n",
       "    </tr>\n",
       "    <tr>\n",
       "      <th>2</th>\n",
       "      <td>JAY</td>\n",
       "      <td>FEDERALIST No. 3 The Same Subject Continued (C...</td>\n",
       "    </tr>\n",
       "    <tr>\n",
       "      <th>3</th>\n",
       "      <td>JAY</td>\n",
       "      <td>FEDERALIST No. 4 The Same Subject Continued (C...</td>\n",
       "    </tr>\n",
       "    <tr>\n",
       "      <th>4</th>\n",
       "      <td>JAY</td>\n",
       "      <td>FEDERALIST No. 5 The Same Subject Continued (C...</td>\n",
       "    </tr>\n",
       "  </tbody>\n",
       "</table>\n",
       "</div>"
      ],
      "text/plain": [
       "     author                                               text\n",
       "0  HAMILTON  FEDERALIST. No. 1 General Introduction For the...\n",
       "1       JAY  FEDERALIST No. 2 Concerning Dangers from Forei...\n",
       "2       JAY  FEDERALIST No. 3 The Same Subject Continued (C...\n",
       "3       JAY  FEDERALIST No. 4 The Same Subject Continued (C...\n",
       "4       JAY  FEDERALIST No. 5 The Same Subject Continued (C..."
      ]
     },
     "execution_count": 2,
     "metadata": {},
     "output_type": "execute_result"
    }
   ],
   "source": [
    "data = pd.read_csv(\"federalist.csv\")\n",
    "data['author'] = data.author.astype('category')\n",
    "data.head()"
   ]
  },
  {
   "cell_type": "code",
   "execution_count": 3,
   "id": "41aa0d85",
   "metadata": {},
   "outputs": [
    {
     "data": {
      "text/plain": [
       "HAMILTON                49\n",
       "MADISON                 15\n",
       "HAMILTON OR MADISON     11\n",
       "JAY                      5\n",
       "HAMILTON AND MADISON     3\n",
       "Name: author, dtype: int64"
      ]
     },
     "execution_count": 3,
     "metadata": {},
     "output_type": "execute_result"
    }
   ],
   "source": [
    "data.author.value_counts()"
   ]
  },
  {
   "cell_type": "code",
   "execution_count": 4,
   "id": "0d941bd3",
   "metadata": {},
   "outputs": [
    {
     "data": {
      "text/plain": [
       "author    category\n",
       "text        object\n",
       "dtype: object"
      ]
     },
     "execution_count": 4,
     "metadata": {},
     "output_type": "execute_result"
    }
   ],
   "source": [
    "data.dtypes"
   ]
  },
  {
   "cell_type": "markdown",
   "id": "3c61a9c8",
   "metadata": {},
   "source": [
    "# 2"
   ]
  },
  {
   "cell_type": "code",
   "execution_count": 5,
   "id": "932e4f56",
   "metadata": {},
   "outputs": [
    {
     "data": {
      "text/plain": [
       "((66,), (17,), (66,), (17,))"
      ]
     },
     "execution_count": 5,
     "metadata": {},
     "output_type": "execute_result"
    }
   ],
   "source": [
    "X = data.text\n",
    "y = data.author\n",
    "\n",
    "X_train, X_test, y_train, y_test = train_test_split(X, y, test_size=0.2, train_size=0.8, random_state=1234)\n",
    "X_train.shape, X_test.shape, y_train.shape, y_test.shape"
   ]
  },
  {
   "cell_type": "markdown",
   "id": "822841f3",
   "metadata": {},
   "source": [
    "# 3"
   ]
  },
  {
   "cell_type": "code",
   "execution_count": 6,
   "id": "6651c2ef",
   "metadata": {},
   "outputs": [
    {
     "name": "stdout",
     "output_type": "stream",
     "text": [
      "train size: (66, 7727)\n",
      "[[0.         0.         0.03056353 ... 0.         0.         0.        ]\n",
      " [0.         0.         0.         ... 0.         0.         0.        ]\n",
      " [0.         0.         0.         ... 0.         0.         0.        ]\n",
      " [0.         0.         0.         ... 0.         0.         0.        ]\n",
      " [0.         0.         0.         ... 0.03999681 0.         0.        ]]\n",
      "\n",
      "test size: (17, 7727)\n",
      "[[0.         0.         0.         ... 0.         0.         0.        ]\n",
      " [0.         0.         0.         ... 0.02406012 0.         0.        ]\n",
      " [0.         0.         0.         ... 0.         0.         0.        ]\n",
      " [0.         0.         0.         ... 0.         0.         0.        ]\n",
      " [0.         0.         0.         ... 0.         0.         0.        ]]\n"
     ]
    }
   ],
   "source": [
    "vectorizer = TfidfVectorizer(stop_words='english')\n",
    "\n",
    "# vectorize\n",
    "X_train = vectorizer.fit_transform(X_train) # fit the training data\n",
    "X_test = vectorizer.transform(X_test) # transform only\n",
    "\n",
    "print('train size:', X_train.shape)\n",
    "print(X_train.toarray()[:5])\n",
    "\n",
    "print('\\ntest size:', X_test.shape)\n",
    "print(X_test.toarray()[:5])"
   ]
  },
  {
   "cell_type": "markdown",
   "id": "042067c8",
   "metadata": {},
   "source": [
    "# 4"
   ]
  },
  {
   "cell_type": "code",
   "execution_count": 7,
   "id": "d4c0f8a8",
   "metadata": {},
   "outputs": [
    {
     "data": {
      "text/plain": [
       "BernoulliNB()"
      ]
     },
     "execution_count": 7,
     "metadata": {},
     "output_type": "execute_result"
    }
   ],
   "source": [
    "naive_bayes = BernoulliNB()\n",
    "naive_bayes.fit(X_train, y_train)"
   ]
  },
  {
   "cell_type": "code",
   "execution_count": 8,
   "id": "06020d62",
   "metadata": {},
   "outputs": [
    {
     "name": "stdout",
     "output_type": "stream",
     "text": [
      "accuracy score:  0.5882352941176471\n"
     ]
    }
   ],
   "source": [
    "pred = naive_bayes.predict(X_test)\n",
    "print('accuracy score: ', accuracy_score(y_test, pred))"
   ]
  },
  {
   "cell_type": "markdown",
   "id": "5feea63b",
   "metadata": {},
   "source": [
    "# 5"
   ]
  },
  {
   "cell_type": "code",
   "execution_count": 9,
   "id": "d3b93fda",
   "metadata": {},
   "outputs": [
    {
     "data": {
      "text/plain": [
       "((66,), (17,), (66,), (17,))"
      ]
     },
     "execution_count": 9,
     "metadata": {},
     "output_type": "execute_result"
    }
   ],
   "source": [
    "X = data.text\n",
    "y = data.author\n",
    "X_train, X_test, y_train, y_test = train_test_split(X, y, test_size=0.2, train_size=0.8, random_state=1234)\n",
    "X_train.shape, X_test.shape, y_train.shape, y_test.shape"
   ]
  },
  {
   "cell_type": "code",
   "execution_count": 10,
   "id": "06ea45be",
   "metadata": {},
   "outputs": [
    {
     "name": "stdout",
     "output_type": "stream",
     "text": [
      "train size: (66, 1000)\n",
      "[[0.02001784 0.02001784 0.01929126 ... 0.03268402 0.01766216 0.        ]\n",
      " [0.02282457 0.02282457 0.         ... 0.03726669 0.02013859 0.        ]\n",
      " [0.01136023 0.01136023 0.         ... 0.10510731 0.01002337 0.        ]\n",
      " [0.         0.         0.         ... 0.01044773 0.         0.        ]\n",
      " [0.01676058 0.01676058 0.08076111 ... 0.01824383 0.01478821 0.04437088]]\n",
      "\n",
      "test size: (17, 1000)\n",
      "[[0.02956605 0.02956605 0.0569858  ... 0.03218254 0.02608674 0.        ]\n",
      " [0.0233583  0.0233583  0.02251047 ... 0.02542542 0.02060951 0.03091864]\n",
      " [0.02531887 0.02531887 0.02439988 ... 0.02755951 0.02233937 0.        ]\n",
      " [0.0241714  0.0241714  0.         ... 0.02631049 0.02132693 0.        ]\n",
      " [0.01918632 0.01918632 0.01848992 ... 0.02088424 0.01692849 0.        ]]\n"
     ]
    }
   ],
   "source": [
    "vectorizer = TfidfVectorizer(stop_words='english', max_features=1000, ngram_range=(1,2))\n",
    "\n",
    "# vectorize\n",
    "X_train = vectorizer.fit_transform(X_train) # fit the training data\n",
    "X_test = vectorizer.transform(X_test) # transform only\n",
    "\n",
    "print('train size:', X_train.shape)\n",
    "print(X_train.toarray()[:5])\n",
    "\n",
    "print('\\ntest size:', X_test.shape)\n",
    "print(X_test.toarray()[:5])"
   ]
  },
  {
   "cell_type": "code",
   "execution_count": 11,
   "id": "146ecddd",
   "metadata": {},
   "outputs": [
    {
     "data": {
      "text/plain": [
       "BernoulliNB()"
      ]
     },
     "execution_count": 11,
     "metadata": {},
     "output_type": "execute_result"
    }
   ],
   "source": [
    "naive_bayes = BernoulliNB()\n",
    "naive_bayes.fit(X_train, y_train)"
   ]
  },
  {
   "cell_type": "code",
   "execution_count": 12,
   "id": "35206d01",
   "metadata": {},
   "outputs": [
    {
     "name": "stdout",
     "output_type": "stream",
     "text": [
      "accuracy score:  0.9411764705882353\n"
     ]
    }
   ],
   "source": [
    "pred = naive_bayes.predict(X_test)\n",
    "print('accuracy score: ', accuracy_score(y_test, pred))"
   ]
  },
  {
   "cell_type": "markdown",
   "id": "5386faf4",
   "metadata": {},
   "source": [
    "# 6"
   ]
  },
  {
   "cell_type": "code",
   "execution_count": 13,
   "id": "0b502cce",
   "metadata": {},
   "outputs": [
    {
     "name": "stdout",
     "output_type": "stream",
     "text": [
      "accuracy score:  0.5882352941176471\n"
     ]
    }
   ],
   "source": [
    "classifier = LogisticRegression()\n",
    "classifier.fit(X_train, y_train)\n",
    "\n",
    "# evaluate\n",
    "pred = classifier.predict(X_test)\n",
    "print('accuracy score: ', accuracy_score(y_test, pred))"
   ]
  },
  {
   "cell_type": "code",
   "execution_count": 14,
   "id": "0a195ad7",
   "metadata": {},
   "outputs": [
    {
     "name": "stdout",
     "output_type": "stream",
     "text": [
      "accuracy score:  0.7058823529411765\n"
     ]
    }
   ],
   "source": [
    "classifier = LogisticRegression(solver='lbfgs', class_weight='balanced')\n",
    "classifier.fit(X_train, y_train)\n",
    "\n",
    "# evaluate\n",
    "pred = classifier.predict(X_test)\n",
    "print('accuracy score: ', accuracy_score(y_test, pred))"
   ]
  },
  {
   "cell_type": "markdown",
   "id": "ab8b3b3a",
   "metadata": {},
   "source": [
    "# 7"
   ]
  },
  {
   "cell_type": "code",
   "execution_count": 15,
   "id": "6429e125",
   "metadata": {},
   "outputs": [
    {
     "name": "stdout",
     "output_type": "stream",
     "text": [
      "accuracy score:  0.7058823529411765\n"
     ]
    }
   ],
   "source": [
    "classifier = MLPClassifier(solver='lbfgs', alpha=1e-5,\n",
    "                   hidden_layer_sizes=(100,), random_state=1)\n",
    "classifier.fit(X_train, y_train)\n",
    "\n",
    "pred = classifier.predict(X_test)\n",
    "print('accuracy score: ', accuracy_score(y_test, pred))"
   ]
  },
  {
   "cell_type": "code",
   "execution_count": 16,
   "id": "b8a8e22b",
   "metadata": {},
   "outputs": [
    {
     "name": "stdout",
     "output_type": "stream",
     "text": [
      "accuracy score:  0.7647058823529411\n"
     ]
    }
   ],
   "source": [
    "classifier = MLPClassifier(solver='lbfgs', alpha=1e-5,\n",
    "                   hidden_layer_sizes=(50,), random_state=1)\n",
    "classifier.fit(X_train, y_train)\n",
    "\n",
    "pred = classifier.predict(X_test)\n",
    "print('accuracy score: ', accuracy_score(y_test, pred))"
   ]
  }
 ],
 "metadata": {
  "kernelspec": {
   "display_name": "Python 3 (ipykernel)",
   "language": "python",
   "name": "python3"
  },
  "language_info": {
   "codemirror_mode": {
    "name": "ipython",
    "version": 3
   },
   "file_extension": ".py",
   "mimetype": "text/x-python",
   "name": "python",
   "nbconvert_exporter": "python",
   "pygments_lexer": "ipython3",
   "version": "3.9.7"
  }
 },
 "nbformat": 4,
 "nbformat_minor": 5
}
